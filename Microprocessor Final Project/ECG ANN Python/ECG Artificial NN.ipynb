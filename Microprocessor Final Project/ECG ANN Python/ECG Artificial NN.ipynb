{
 "cells": [
  {
   "cell_type": "markdown",
   "metadata": {},
   "source": [
    "# Low Level Neural Network for ECG Classification\n",
    "\n",
    "In this notebook we implement a 3-layer ANN for classifying ECG signals using PSD and Energy as input.\n",
    "Our three layers consist of:\n",
    "Layer 1: 2 neurons to input the PSD and Energy.\n",
    "Layer 2: In Layer 2 we used a variable amount of neurons ,namely from one to 30 neurons and we obtained the best metrics by using  a 16 neuron layer.\n",
    "Layer 3: 2 neurons to output the probability of a patient having a Normal sinus or an arrythmia.\n",
    "\n",
    "The Network is implemented from scratch to mimic the flow of the process on low-level hardware."
   ]
  },
  {
   "cell_type": "code",
   "execution_count": 2,
   "metadata": {},
   "outputs": [],
   "source": [
    "# Library imports\n",
    "import numpy as np\n",
    "import matplotlib\n",
    "import csv\n",
    "from matplotlib import pyplot as plt\n",
    "from matplotlib.pyplot import figure"
   ]
  },
  {
   "cell_type": "markdown",
   "metadata": {},
   "source": [
    "## Loading datasets\n",
    "\n",
    "We load the arrythmia and  normal sinus datasets from https://physionet.org/physiobank/database/#ecg MIT-BIH and split the data into two sets, a training set and a post-training test set.\n",
    "We also perform normalization of data to decrease the training speed when using the gradient descent optimization."
   ]
  },
  {
   "cell_type": "code",
   "execution_count": 11,
   "metadata": {},
   "outputs": [
    {
     "name": "stdout",
     "output_type": "stream",
     "text": [
      "[0 0 1 1 0 0 0 1 1 0 0]\n",
      "[[1.49364294e-03 2.98558157e-01]\n",
      " [5.88622089e-04 1.31272587e-01]\n",
      " [6.59792692e-03 1.06531609e-02]\n",
      " [2.16364689e-02 1.12378399e-02]\n",
      " [2.45044572e-03 3.64859395e-01]\n",
      " [3.88817167e-05 1.41916518e-01]\n",
      " [8.91711873e-03 4.68797725e-01]\n",
      " [1.00000000e+00 8.09837526e-02]\n",
      " [7.18320279e-03 3.70856311e-03]\n",
      " [0.00000000e+00 1.25290164e-01]\n",
      " [5.96417470e-04 3.93524039e-02]]\n"
     ]
    },
    {
     "data": {
      "text/plain": [
       "<matplotlib.collections.PathCollection at 0x1a315043ac8>"
      ]
     },
     "execution_count": 11,
     "metadata": {},
     "output_type": "execute_result"
    },
    {
     "data": {
      "image/png": "[encoded data removed]",
      "text/plain": [
       "<Figure size 432x288 with 1 Axes>"
      ]
     },
     "metadata": {},
     "output_type": "display_data"
    }
   ],
   "source": [
    "# Load dataset and plot a scatter-graph\n",
    "np.random.seed(0)\n",
    "X1_init= []\n",
    "y_init= []\n",
    "max1 = 0\n",
    "max2 = 0\n",
    "min1 = 99999999\n",
    "min2 = 99999999\n",
    "\n",
    "with open('database.csv', 'rt') as csvfile:\n",
    "    lines = csv.reader(csvfile)\n",
    "    for row in lines:\n",
    "        dummy = []\n",
    "        dummy.append(float(row[1])*1e10)\n",
    "        dummy.append(float(row[2])/1e5)\n",
    "        max1 = max(max1, dummy[0])\n",
    "        max2 = max(max2, dummy[1])\n",
    "        min1 = min(min1, dummy[0])\n",
    "        min2 = min(min2, dummy[1])\n",
    "        X1_init.append(dummy)\n",
    "        y_init.append(int(row[3]))\n",
    "\n",
    "X_init = []\n",
    "for val in X1_init:\n",
    "    dumbo = []\n",
    "    v1 = (val[0]- min1)/(max1-min1)\n",
    "    v2 = (val[1]- min2)/(max2-min2)\n",
    "    dumbo.append(v1)\n",
    "    dumbo.append(v2)\n",
    "    X_init.append(dumbo)\n",
    "Xt = np.array(X_init[len(X_init)-11:])\n",
    "yt = np.array(y_init[len(X_init)-11:])\n",
    "X = np.array(X_init[0:len(X_init)-12])\n",
    "y = np.array(y_init[0:len(X_init)-12])\n",
    "print (yt)\n",
    "print(Xt)\n",
    "plt.scatter(X[:,0], X[:,1], s=40, c=y, cmap=plt.cm.Spectral)"
   ]
  },
  {
   "cell_type": "markdown",
   "metadata": {},
   "source": [
    "There are two labels (healthy sinus and arrythmia) denoted as red and blue points in the above graph\n",
    "\n",
    "Our goal is to train an ML classifier that predicts if the patient is healthy or not."
   ]
  },
  {
   "cell_type": "code",
   "execution_count": 4,
   "metadata": {},
   "outputs": [],
   "source": [
    "# Helper function to plot a decision boundary.\n",
    "# If you don't fully understand this function don't worry, it just generates the contour plot below.\n",
    "def plot_decision_boundary(pred_func):\n",
    "    # Set min and max values and give it some padding\n",
    "    x_min, x_max = -2, 4\n",
    "    y_min, y_max = 0, 50\n",
    "    h = 0.1\n",
    "    # Generate a grid of points with distance h between them\n",
    "    xx, yy = np.meshgrid(np.arange(x_min, x_max, h), np.arange(y_min, y_max, h))\n",
    "    # Predict the function value for the whole gid\n",
    "    Z = pred_func(np.c_[xx.ravel(), yy.ravel()])\n",
    "    Z = Z.reshape(xx.shape)\n",
    "    # Plot the contour and training examples\n",
    "    figure(num=None, figsize=(7, 5), dpi=80, facecolor='w', edgecolor='k')\n",
    "    plt.contourf(xx, yy, Z, cmap=plt.cm.Spectral)\n",
    "    plt.scatter(X[:, 0], X[:, 1], c=y, cmap=plt.cm.Spectral)\n",
    "    plt.ylim(0,2)\n",
    "    plt.xlim(-0.1,1)"
   ]
  },
  {
   "cell_type": "markdown",
   "metadata": {},
   "source": [
    "## Network Architecture and Training"
   ]
  },
  {
   "cell_type": "markdown",
   "metadata": {},
   "source": [
    "Firstly, we will build our 3 layer network, with one input layer (dimensionality = 2 ; PSD & Energy), hidden layer (dimensionality = 16 ; which corrosponds to the perceptrons) and the output layer which takes from the hidden layer the inputs and maps them to our classes(2: Normal Wave or not). Furthermore, if we need to expand our network, our architecture is modular and can be scaled to occupy more classes and feautures.\n",
    "\n",
    "<img src='http://www.vilipetek.com/wp-content/uploads/2015/02/Multilayer-Perceptron-Creation.png' style='width: 50%'/>"
   ]
  },
  {
   "cell_type": "markdown",
   "metadata": {},
   "source": [
    "The choice of the number of perceptrons in the hidden layer reflects the complexity and the ability to comprehend more feautures. Moreover, there is a tradeoff for chosing high dimensionality in the hidden layer, which is the computional cost.\n",
    "In spiderman, there was a saying \"With great power comes great responsibility\"; and that exactly what happens with a neural network with more power(perceptrons), comes greater responsibility(computional cost)."
   ]
  },
  {
   "cell_type": "markdown",
   "metadata": {},
   "source": [
    "Secondly, in order to transfer the output of the layers to closer values, we need activation functions and specially non-linear activiation functions. Some of the most important and used activation functions are the tanh,RELU, sigmoid and softmax."
   ]
  },
  {
   "cell_type": "markdown",
   "metadata": {},
   "source": [
    "### ANN's Prediction\n",
    "\n",
    "Our network makes predictions using *forward propagation*, which is basically matrix multiplications and the application of the activation functions we mentioned earlier. If $x$ is the 2-dimensional input(PSD & Energy) to our network, then we compute our prediction $\\hat{y}$ (also two-dimensional) as follows:"
   ]
  },
  {
   "cell_type": "markdown",
   "metadata": {},
   "source": [
    "$$\n",
    "\\begin{aligned}\n",
    "z_1 & = xW_1 + b_1 \\\\\n",
    "a_1 & = \\tanh(z_1) \\\\\n",
    "z_2 & = a_1W_2 + b_2 \\\\\n",
    "a_2 & = \\hat{y} = \\mathrm{softmax}(z_2)\n",
    "\\end{aligned}\n",
    "$$"
   ]
  },
  {
   "cell_type": "markdown",
   "metadata": {},
   "source": [
    "$z_i$ is the weighted sum of inputs of layer $i$ (bias included) and $a_i$ is the output of layer $i$ after applying the activation function. $W_1, b_1, W_2, b_2$ are  parameters of our network, which we need to learn from our training data. You can think of them as matrices transforming data between layers of the network."
   ]
  },
  {
   "cell_type": "markdown",
   "metadata": {},
   "source": [
    "### Learning the Parameters\n",
    "\n",
    "Learning the parameters for our network means finding parameters ($W_1, b_1, W_2, b_2$) that minimize the error on our training data. But how do we define the error? We call the function that measures our error the *loss function*. A common choice with the softmax output is the [cross-entropy loss](https://en.wikipedia.org/wiki/Cross_entropy#Cross-entropy_error_function_and_logistic_regression). If we have $N$ training examples and $C$ classes then the loss for our prediction $\\hat{y}$ with respect to the true labels $y$ is given by:\n",
    "\n",
    "$$\n",
    "\\begin{aligned}\n",
    "L(y,\\hat{y}) = - \\frac{1}{N} \\sum_{n \\in N} \\sum_{i \\in C} y_{n,i} \\log\\hat{y}_{n,i}\n",
    "\\end{aligned}\n",
    "$$\n",
    "\n"
   ]
  },
  {
   "cell_type": "markdown",
   "metadata": {},
   "source": [
    "The equation basically calculates the error by summing the values of the test data and approximates the error, by checking the wrongly classified points."
   ]
  },
  {
   "cell_type": "markdown",
   "metadata": {},
   "source": [
    "Our objective is to minimize the loss function mentioned earlier, thus we will use a simple gradient descent algorithm. Moreover, we will need to define the below equation to be used."
   ]
  },
  {
   "cell_type": "markdown",
   "metadata": {},
   "source": [
    "$$\n",
    "\\begin{aligned}\n",
    "& \\delta_3 = \\hat{y} - y \\\\\n",
    "& \\delta_2 = (1 - \\tanh^2z_1) \\circ \\delta_3W_2^T \\\\\n",
    "& \\frac{\\partial{L}}{\\partial{W_2}} = a_1^T \\delta_3  \\\\\n",
    "& \\frac{\\partial{L}}{\\partial{b_2}} = \\delta_3\\\\\n",
    "& \\frac{\\partial{L}}{\\partial{W_1}} = x^T \\delta_2\\\\\n",
    "& \\frac{\\partial{L}}{\\partial{b_1}} = \\delta_2 \\\\\n",
    "\\end{aligned}\n",
    "$$"
   ]
  },
  {
   "cell_type": "markdown",
   "metadata": {},
   "source": [
    "### Implementation\n",
    "\n",
    "Now we are ready for our implementation. We start by defining some useful variables and parameters for gradient descent:"
   ]
  },
  {
   "cell_type": "code",
   "execution_count": 5,
   "metadata": {},
   "outputs": [],
   "source": [
    "num_examples = len(X) # training set size\n",
    "nn_input_dim = 2 # input layer dimensionality\n",
    "nn_output_dim = 2 # output layer dimensionality\n",
    "\n",
    "# Gradient descent parameters (I picked these by hand)\n",
    "epsilon = 0.01 # learning rate for gradient descent\n",
    "reg_lambda = 0.01 # regularization strength"
   ]
  },
  {
   "cell_type": "markdown",
   "metadata": {},
   "source": [
    "First let's implement the loss function we defined above. We use this to evaluate how well our model is doing:"
   ]
  },
  {
   "cell_type": "code",
   "execution_count": 6,
   "metadata": {},
   "outputs": [],
   "source": [
    "# Helper function to evaluate the total loss on the dataset\n",
    "def calculate_loss(model):\n",
    "    W1, b1, W2, b2 = model['W1'], model['b1'], model['W2'], model['b2']\n",
    "    # Forward propagation to calculate our predictions\n",
    "    z1 = X.dot(W1) + b1\n",
    "    a1 = np.tanh(z1)\n",
    "    z2 = a1.dot(W2) + b2\n",
    "    exp_scores = np.exp(z2)\n",
    "    probs = exp_scores / np.sum(exp_scores, axis=1, keepdims=True)\n",
    "    # Calculating the loss\n",
    "    corect_logprobs = -np.log(probs[range(num_examples), y])\n",
    "    data_loss = np.sum(corect_logprobs)\n",
    "    # Add regulatization term to loss (optional)\n",
    "    data_loss += reg_lambda/2 * (np.sum(np.square(W1)) + np.sum(np.square(W2)))\n",
    "    return 1./num_examples * data_loss"
   ]
  },
  {
   "cell_type": "markdown",
   "metadata": {},
   "source": [
    "We also implement a helper function to calculate the output of the network. It does forward propagation as defined above and returns the class with the highest probability."
   ]
  },
  {
   "cell_type": "code",
   "execution_count": 7,
   "metadata": {},
   "outputs": [],
   "source": [
    "# Helper function to predict an output (0 or 1)\n",
    "def predict(model, x):\n",
    "    W1, b1, W2, b2 = model['W1'], model['b1'], model['W2'], model['b2']\n",
    "    # Forward propagation\n",
    "    z1 = x.dot(W1) + b1\n",
    "    a1 = np.tanh(z1)\n",
    "    z2 = a1.dot(W2) + b2\n",
    "    exp_scores = np.exp(z2)\n",
    "    probs = exp_scores / np.sum(exp_scores, axis=1, keepdims=True)\n",
    "    print(\"Probs: \\n\",probs)\n",
    "    return np.argmax(probs, axis=1)"
   ]
  },
  {
   "cell_type": "code",
   "execution_count": 8,
   "metadata": {},
   "outputs": [],
   "source": [
    "# This function learns parameters for the neural network and returns the model.\n",
    "# - nn_hdim: Number of nodes in the hidden layer\n",
    "# - num_passes: Number of passes through the training data for gradient descent\n",
    "# - print_loss: If True, print the loss every 20000 iterations\n",
    "def build_model(nn_hdim, num_passes=300, print_loss=False):\n",
    "    \n",
    "    # Initialize the parameters to random values. We need to learn these.\n",
    "    np.random.seed(1)\n",
    "    W1 = np.random.randn(nn_input_dim, nn_hdim) / np.sqrt(nn_input_dim)\n",
    "    b1 = np.zeros((1, nn_hdim))\n",
    "    W2 = np.random.randn(nn_hdim, nn_output_dim) / np.sqrt(nn_hdim)\n",
    "    b2 = np.zeros((1, nn_output_dim))\n",
    "\n",
    "    # This is what we return at the end\n",
    "    model = {}\n",
    "    \n",
    "    # Gradient descent. For each batch...\n",
    "    for i in range(0, num_passes):\n",
    "\n",
    "        # Forward propagation\n",
    "        z1 = X.dot(W1) + b1\n",
    "        a1 = np.tanh(z1)\n",
    "        z2 = a1.dot(W2) + b2\n",
    "        exp_scores = np.exp(z2)\n",
    "        probs = exp_scores / np.sum(exp_scores, axis=1, keepdims=True)\n",
    "\n",
    "        # Backpropagation\n",
    "        delta3 = probs\n",
    "        delta3[range(num_examples), y] -= 1\n",
    "        dW2 = (a1.T).dot(delta3)\n",
    "        db2 = np.sum(delta3, axis=0, keepdims=True)\n",
    "        delta2 = delta3.dot(W2.T) * (1 - np.power(a1, 2))\n",
    "        dW1 = np.dot(X.T, delta2)\n",
    "        db1 = np.sum(delta2, axis=0)\n",
    "\n",
    "        # Add regularization terms (b1 and b2 don't have regularization terms)\n",
    "        dW2 += reg_lambda * W2\n",
    "        dW1 += reg_lambda * W1\n",
    "\n",
    "        # Gradient descent parameter update\n",
    "        W1 += -epsilon * dW1\n",
    "        b1 += -epsilon * db1\n",
    "        W2 += -epsilon * dW2\n",
    "        b2 += -epsilon * db2\n",
    "        \n",
    "        # Assign new parameters to the model\n",
    "        model = { 'W1': W1, 'b1': b1, 'W2': W2, 'b2': b2}\n",
    "        \n",
    "        # Optionally print the loss.\n",
    "        # This is expensive because it uses the whole dataset, so we don't want to do it too often.\n",
    "        best = 1000\n",
    "        losses=calculate_loss(model)\n",
    "        if best>losses:\n",
    "            best = losses\n",
    "            BW1 = W1\n",
    "            Bb1 = b1\n",
    "            BW2 = W2\n",
    "            Bb2 = b2\n",
    "        W1A = []\n",
    "        W2A = []\n",
    "        b1A = []\n",
    "        b2A = []\n",
    "        for i in Bb1:\n",
    "            for j in i:\n",
    "                b1A.append(j)\n",
    "        for i in Bb2:\n",
    "            for j in i:\n",
    "                b2A.append(j)\n",
    "        for j in BW1:\n",
    "            for i in j:\n",
    "                W1A.append(i)\n",
    "        for j in BW2:\n",
    "            for i in j:\n",
    "                W2A.append(i)\n",
    "        b1A = np.array(b1A)\n",
    "        b2A = np.array(b2A)\n",
    "        W2A = np.array(W2A)\n",
    "        W1A = np.array(W1A)\n",
    "        np.savetxt(\"bestWeights/BW1.csv\", W1A)\n",
    "        np.savetxt(\"bestWeights/b1.csv\", b1A)\n",
    "        np.savetxt(\"bestWeights/BW2.csv\", W2A)\n",
    "        np.savetxt(\"bestWeights/b2.csv\", b2A)\n",
    "#     print (\"Weights of edges of Input layer to hidden layer (2x16): \",W1, \"\\n\")\n",
    "#     print (\"biases of hidden layer (x16): \",b1, \"\\n\")\n",
    "#     print (\"Weights of edges of hidden layer to output layer (16x2): \",W2, \"\\n\")\n",
    "#     print (\"biases of output layer (x2): \",b2, \"\\n\")\n",
    "    print(best)\n",
    "    return model"
   ]
  },
  {
   "cell_type": "markdown",
   "metadata": {},
   "source": [
    "### Selected hidden layer neurons size(16)\n",
    "\n",
    "Based on the hidden layer neurons count variant training we chose 16.\n"
   ]
  },
  {
   "cell_type": "code",
   "execution_count": 9,
   "metadata": {
    "scrolled": true
   },
   "outputs": [
    {
     "name": "stdout",
     "output_type": "stream",
     "text": [
      "0.08991451839856202\n"
     ]
    }
   ],
   "source": [
    "# Build a model with a 16-dimensional hidden layer\n",
    "model = build_model(16, print_loss=True)"
   ]
  },
  {
   "cell_type": "code",
   "execution_count": 13,
   "metadata": {},
   "outputs": [
    {
     "name": "stdout",
     "output_type": "stream",
     "text": [
      "[0.00149364 0.29855816]\n",
      "Probs: \n",
      " [[0.99025768 0.00974232]]\n",
      "[0] 0\n",
      "[0.00058862 0.13127259]\n",
      "Probs: \n",
      " [[0.42729769 0.57270231]]\n",
      "[1] 0\n",
      "[0.00659793 0.01065316]\n",
      "Probs: \n",
      " [[0.01676229 0.98323771]]\n",
      "[1] 1\n",
      "[0.02163647 0.01123784]\n",
      "Probs: \n",
      " [[0.01233397 0.98766603]]\n",
      "[1] 1\n",
      "[0.00245045 0.36485939]\n",
      "Probs: \n",
      " [[0.99831306 0.00168694]]\n",
      "[0] 0\n",
      "[3.88817167e-05 1.41916518e-01]\n",
      "Probs: \n",
      " [[0.51095393 0.48904607]]\n",
      "[0] 0\n",
      "[0.00891712 0.46879773]\n",
      "Probs: \n",
      " [[9.99845521e-01 1.54479291e-04]]\n",
      "[0] 0\n",
      "[1.         0.08098375]\n",
      "Probs: \n",
      " [[2.55431063e-07 9.99999745e-01]]\n",
      "[1] 1\n",
      "[0.0071832  0.00370856]\n",
      "Probs: \n",
      " [[0.0135336 0.9864664]]\n",
      "[1] 1\n",
      "[0.         0.12529016]\n",
      "Probs: \n",
      " [[0.38652375 0.61347625]]\n",
      "[1] 0\n",
      "Probs: \n",
      " [[9.99999513e-01 4.87095146e-07]\n",
      " [9.99999480e-01 5.20195024e-07]\n",
      " [9.99999433e-01 5.67242729e-07]\n",
      " ...\n",
      " [9.99999999e-01 6.25333898e-10]\n",
      " [9.99999999e-01 6.25333914e-10]\n",
      " [9.99999999e-01 6.25333934e-10]]\n"
     ]
    },
    {
     "data": {
      "text/plain": [
       "Text(0.5,1,'Decision Boundary for hidden layer size 16')"
      ]
     },
     "execution_count": 13,
     "metadata": {},
     "output_type": "execute_result"
    },
    {
     "data": {
      "image/png": "[encoded data removed]",
      "text/plain": [
       "<Figure size 560x400 with 1 Axes>"
      ]
     },
     "metadata": {},
     "output_type": "display_data"
    }
   ],
   "source": [
    "scores = 0\n",
    "for i in range(0, 10, 1):\n",
    "    print(Xt[i])\n",
    "    t = predict(model,Xt[i])\n",
    "    if t == yt[i]:\n",
    "        scores+=1\n",
    "    print (t,yt[i])\n",
    "# Plot the decision boundary\n",
    "plot_decision_boundary(lambda x: predict(model, x))\n",
    "plt.title(\"Decision Boundary for hidden layer size 16\")"
   ]
  },
  {
   "cell_type": "markdown",
   "metadata": {},
   "source": [
    "###### Varying the hidden layer size\n",
    "\n",
    "In the example above we picked a hidden layer size of 16. Let's now get a sense of how varying the hidden layer size affects the result.\n"
   ]
  },
  {
   "cell_type": "code",
   "execution_count": 11,
   "metadata": {},
   "outputs": [
    {
     "name": "stdout",
     "output_type": "stream",
     "text": [
      "Model 1 With 1 perceptrons\n",
      " Loss = 0.09983589374395352\n",
      "\n",
      "\n",
      "Probs: \n",
      " [[0.99782367 0.00217633]\n",
      " [0.99782275 0.00217725]\n",
      " [0.99782116 0.00217884]\n",
      " ...\n",
      " [0.99782494 0.00217506]\n",
      " [0.99782494 0.00217506]\n",
      " [0.99782494 0.00217506]]\n"
     ]
    },
    {
     "data": {
      "image/png": "[encoded data removed]",
      "text/plain": [
       "<Figure size 560x400 with 1 Axes>"
      ]
     },
     "metadata": {},
     "output_type": "display_data"
    },
    {
     "name": "stdout",
     "output_type": "stream",
     "text": [
      "Model 2 With 16 perceptrons\n",
      " Loss = 0.08991451839856202\n",
      "\n",
      "\n",
      "Probs: \n",
      " [[9.99999513e-01 4.87095146e-07]\n",
      " [9.99999480e-01 5.20195024e-07]\n",
      " [9.99999433e-01 5.67242729e-07]\n",
      " ...\n",
      " [9.99999999e-01 6.25333898e-10]\n",
      " [9.99999999e-01 6.25333914e-10]\n",
      " [9.99999999e-01 6.25333934e-10]]\n"
     ]
    },
    {
     "data": {
      "image/png": "[encoded data removed]",
      "text/plain": [
       "<Figure size 560x400 with 1 Axes>"
      ]
     },
     "metadata": {},
     "output_type": "display_data"
    },
    {
     "name": "stdout",
     "output_type": "stream",
     "text": [
      "Model 3 With 2000 perceptrons\n",
      " Loss = "
     ]
    },
    {
     "ename": "KeyboardInterrupt",
     "evalue": "",
     "output_type": "error",
     "traceback": [
      "\u001b[1;31m---------------------------------------------------------------------------\u001b[0m",
      "\u001b[1;31mKeyboardInterrupt\u001b[0m                         Traceback (most recent call last)",
      "\u001b[1;32m<ipython-input-11-e598084ea478>\u001b[0m in \u001b[0;36m<module>\u001b[1;34m()\u001b[0m\n\u001b[0;32m      2\u001b[0m \u001b[1;32mfor\u001b[0m \u001b[0mi\u001b[0m\u001b[1;33m,\u001b[0m \u001b[0mnn_hdim\u001b[0m \u001b[1;32min\u001b[0m \u001b[0menumerate\u001b[0m\u001b[1;33m(\u001b[0m\u001b[0mhidden_layer_dimensions\u001b[0m\u001b[1;33m)\u001b[0m\u001b[1;33m:\u001b[0m\u001b[1;33m\u001b[0m\u001b[0m\n\u001b[0;32m      3\u001b[0m     \u001b[0mprint\u001b[0m\u001b[1;33m(\u001b[0m\u001b[1;34m\"Model\"\u001b[0m\u001b[1;33m,\u001b[0m\u001b[0mi\u001b[0m\u001b[1;33m+\u001b[0m\u001b[1;36m1\u001b[0m\u001b[1;33m,\u001b[0m\u001b[1;34m\"With %d perceptrons\\n Loss = \"\u001b[0m\u001b[1;33m%\u001b[0m\u001b[0mnn_hdim\u001b[0m\u001b[1;33m,\u001b[0m\u001b[0mend\u001b[0m\u001b[1;33m=\u001b[0m\u001b[1;34m\"\"\u001b[0m\u001b[1;33m)\u001b[0m\u001b[1;33m\u001b[0m\u001b[0m\n\u001b[1;32m----> 4\u001b[1;33m     \u001b[0mmodel\u001b[0m \u001b[1;33m=\u001b[0m \u001b[0mbuild_model\u001b[0m\u001b[1;33m(\u001b[0m\u001b[0mnn_hdim\u001b[0m\u001b[1;33m,\u001b[0m \u001b[0mprint_loss\u001b[0m\u001b[1;33m=\u001b[0m\u001b[1;32mTrue\u001b[0m\u001b[1;33m)\u001b[0m\u001b[1;33m\u001b[0m\u001b[0m\n\u001b[0m\u001b[0;32m      5\u001b[0m     \u001b[0mprint\u001b[0m\u001b[1;33m(\u001b[0m\u001b[1;34m'\\n'\u001b[0m\u001b[1;33m)\u001b[0m\u001b[1;33m\u001b[0m\u001b[0m\n\u001b[0;32m      6\u001b[0m     \u001b[0mplot_decision_boundary\u001b[0m\u001b[1;33m(\u001b[0m\u001b[1;32mlambda\u001b[0m \u001b[0mx\u001b[0m\u001b[1;33m:\u001b[0m \u001b[0mpredict\u001b[0m\u001b[1;33m(\u001b[0m\u001b[0mmodel\u001b[0m\u001b[1;33m,\u001b[0m \u001b[0mx\u001b[0m\u001b[1;33m)\u001b[0m\u001b[1;33m)\u001b[0m\u001b[1;33m\u001b[0m\u001b[0m\n",
      "\u001b[1;32m<ipython-input-8-cc64bd80ae33>\u001b[0m in \u001b[0;36mbuild_model\u001b[1;34m(nn_hdim, num_passes, print_loss)\u001b[0m\n\u001b[0;32m     79\u001b[0m         \u001b[0mnp\u001b[0m\u001b[1;33m.\u001b[0m\u001b[0msavetxt\u001b[0m\u001b[1;33m(\u001b[0m\u001b[1;34m\"bestWeights/BW1.csv\"\u001b[0m\u001b[1;33m,\u001b[0m \u001b[0mW1A\u001b[0m\u001b[1;33m)\u001b[0m\u001b[1;33m\u001b[0m\u001b[0m\n\u001b[0;32m     80\u001b[0m         \u001b[0mnp\u001b[0m\u001b[1;33m.\u001b[0m\u001b[0msavetxt\u001b[0m\u001b[1;33m(\u001b[0m\u001b[1;34m\"bestWeights/b1.csv\"\u001b[0m\u001b[1;33m,\u001b[0m \u001b[0mb1A\u001b[0m\u001b[1;33m)\u001b[0m\u001b[1;33m\u001b[0m\u001b[0m\n\u001b[1;32m---> 81\u001b[1;33m         \u001b[0mnp\u001b[0m\u001b[1;33m.\u001b[0m\u001b[0msavetxt\u001b[0m\u001b[1;33m(\u001b[0m\u001b[1;34m\"bestWeights/BW2.csv\"\u001b[0m\u001b[1;33m,\u001b[0m \u001b[0mW2A\u001b[0m\u001b[1;33m)\u001b[0m\u001b[1;33m\u001b[0m\u001b[0m\n\u001b[0m\u001b[0;32m     82\u001b[0m         \u001b[0mnp\u001b[0m\u001b[1;33m.\u001b[0m\u001b[0msavetxt\u001b[0m\u001b[1;33m(\u001b[0m\u001b[1;34m\"bestWeights/b2.csv\"\u001b[0m\u001b[1;33m,\u001b[0m \u001b[0mb2A\u001b[0m\u001b[1;33m)\u001b[0m\u001b[1;33m\u001b[0m\u001b[0m\n\u001b[0;32m     83\u001b[0m \u001b[1;31m#     print (\"Weights of edges of Input layer to hidden layer (2x16): \",W1, \"\\n\")\u001b[0m\u001b[1;33m\u001b[0m\u001b[1;33m\u001b[0m\u001b[0m\n",
      "\u001b[1;32m~\\Anaconda3\\lib\\site-packages\\numpy\\lib\\npyio.py\u001b[0m in \u001b[0;36msavetxt\u001b[1;34m(fname, X, fmt, delimiter, newline, header, footer, comments, encoding)\u001b[0m\n\u001b[0;32m   1390\u001b[0m                                     \u001b[1;34m\"format specifier ('%s')\"\u001b[0m\u001b[1;33m\u001b[0m\u001b[0m\n\u001b[0;32m   1391\u001b[0m                                     % (str(X.dtype), format))\n\u001b[1;32m-> 1392\u001b[1;33m                 \u001b[0mfh\u001b[0m\u001b[1;33m.\u001b[0m\u001b[0mwrite\u001b[0m\u001b[1;33m(\u001b[0m\u001b[0mv\u001b[0m\u001b[1;33m)\u001b[0m\u001b[1;33m\u001b[0m\u001b[0m\n\u001b[0m\u001b[0;32m   1393\u001b[0m \u001b[1;33m\u001b[0m\u001b[0m\n\u001b[0;32m   1394\u001b[0m         \u001b[1;32mif\u001b[0m \u001b[0mlen\u001b[0m\u001b[1;33m(\u001b[0m\u001b[0mfooter\u001b[0m\u001b[1;33m)\u001b[0m \u001b[1;33m>\u001b[0m \u001b[1;36m0\u001b[0m\u001b[1;33m:\u001b[0m\u001b[1;33m\u001b[0m\u001b[0m\n",
      "\u001b[1;31mKeyboardInterrupt\u001b[0m: "
     ]
    }
   ],
   "source": [
    "hidden_layer_dimensions = [1,16,2000]\n",
    "for i, nn_hdim in enumerate(hidden_layer_dimensions):\n",
    "    print(\"Model\",i+1,\"With %d perceptrons\\n Loss = \"%nn_hdim,end=\"\")\n",
    "    model = build_model(nn_hdim, print_loss=True)\n",
    "    print('\\n')\n",
    "    plot_decision_boundary(lambda x: predict(model, x))\n",
    "    plt.show()\n"
   ]
  },
  {
   "cell_type": "code",
   "execution_count": null,
   "metadata": {},
   "outputs": [],
   "source": []
  },
  {
   "cell_type": "code",
   "execution_count": null,
   "metadata": {},
   "outputs": [],
   "source": []
  }
 ],
 "metadata": {
  "kernelspec": {
   "display_name": "Python 3",
   "language": "python",
   "name": "python3"
  },
  "language_info": {
   "codemirror_mode": {
    "name": "ipython",
    "version": 3
   },
   "file_extension": ".py",
   "mimetype": "text/x-python",
   "name": "python",
   "nbconvert_exporter": "python",
   "pygments_lexer": "ipython3",
   "version": "3.6.6"
  }
 },
 "nbformat": 4,
 "nbformat_minor": 1
}
